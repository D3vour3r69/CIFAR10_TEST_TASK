{
 "cells": [
  {
   "cell_type": "code",
   "id": "initial_id",
   "metadata": {
    "collapsed": true,
    "ExecuteTime": {
     "end_time": "2025-10-26T14:38:37.880591Z",
     "start_time": "2025-10-26T14:38:31.752514Z"
    }
   },
   "source": [
    "import torch\n",
    "import torch.nn as nn\n",
    "import torchvision\n",
    "import torchvision.transforms as transforms\n",
    "import torch.optim as optim\n",
    "import torchvision.models as models\n",
    "from pydantic.experimental.pipeline import transform\n",
    "from torch.utils.data import Dataset, DataLoader\n",
    "from matplotlib import pyplot as plt\n",
    "from tqdm import tqdm\n"
   ],
   "outputs": [],
   "execution_count": 1
  },
  {
   "metadata": {
    "ExecuteTime": {
     "end_time": "2025-10-26T14:38:39.185845Z",
     "start_time": "2025-10-26T14:38:39.165945Z"
    }
   },
   "cell_type": "code",
   "source": "device = torch.device(\"cuda\" if torch.cuda.is_available() else \"cpu\")",
   "id": "1b913b208cc70fae",
   "outputs": [],
   "execution_count": 2
  },
  {
   "metadata": {
    "ExecuteTime": {
     "end_time": "2025-10-26T14:38:40.075380Z",
     "start_time": "2025-10-26T14:38:40.072771Z"
    }
   },
   "cell_type": "code",
   "source": "plt.style.use('ggplot')",
   "id": "6f047e4c80d0d1ac",
   "outputs": [],
   "execution_count": 3
  },
  {
   "metadata": {},
   "cell_type": "markdown",
   "source": "REZNET модель",
   "id": "5af27d51377b6dbc"
  },
  {
   "metadata": {
    "ExecuteTime": {
     "end_time": "2025-10-24T16:31:21.949387Z",
     "start_time": "2025-10-24T16:31:21.649312Z"
    }
   },
   "cell_type": "code",
   "source": [
    "model = models.resnet50(pretrained=False)\n",
    "num_classes = 10\n",
    "model.fc = nn.Linear(model.fc.in_features, num_classes)"
   ],
   "id": "b5e28e1219b9fbc4",
   "outputs": [],
   "execution_count": 46
  },
  {
   "metadata": {
    "ExecuteTime": {
     "end_time": "2025-10-26T14:38:41.638750Z",
     "start_time": "2025-10-26T14:38:41.635317Z"
    }
   },
   "cell_type": "code",
   "source": [
    "num_classes = 10\n",
    "def reznet18_for_cifar10():\n",
    "    model = models.resnet18(pretrained=False)\n",
    "    model.conv1 = nn.Conv2d(3, 64, kernel_size=3, stride=1, padding=1, bias=False)\n",
    "    model.maxpool = nn.Identity()\n",
    "    model.fc = nn.Linear(512, num_classes)\n",
    "    return model\n",
    "    "
   ],
   "id": "701f1ecd0bdd9d78",
   "outputs": [],
   "execution_count": 4
  },
  {
   "metadata": {
    "ExecuteTime": {
     "end_time": "2025-10-26T14:38:44.700746Z",
     "start_time": "2025-10-26T14:38:43.172372Z"
    }
   },
   "cell_type": "code",
   "source": [
    "train_transforms = transforms.Compose([\n",
    "    transforms.RandomCrop(32, padding=4),\n",
    "    transforms.RandomHorizontalFlip(),\n",
    "    transforms.ColorJitter(brightness=0.2, contrast=0.2, saturation=0.2),\n",
    "    transforms.RandomRotation(15),\n",
    "    transforms.ToTensor(),\n",
    "    transforms.Normalize((0.4914, 0.4822, 0.4465), (0.2023, 0.1994, 0.2010)),\n",
    "])\n",
    "\n",
    "test_transforms = transforms.Compose([transforms.ToTensor(),\n",
    "                                      transforms.Normalize((0.4914, 0.4822, 0.4465), (0.2023, 0.1994, 0.2010))])\n",
    "\n",
    "\n",
    "train_set = torchvision.datasets.CIFAR10(root='./data', train=True, download=True, transform=train_transforms)\n",
    "test_set = torchvision.datasets.CIFAR10(root='./data', train=False, download=True, transform=test_transforms)\n",
    "\n",
    "train_batch_size = 512\n",
    "test_batch_size = 512\n",
    "\n",
    "train_loader = torch.utils.data.DataLoader(train_set, batch_size=train_batch_size, shuffle=True, num_workers=2)\n",
    "test_loader = torch.utils.data.DataLoader(test_set, batch_size=test_batch_size, shuffle=False, num_workers=2)\n",
    "\n",
    "classes = ('plane', 'car', 'bird', 'cat', 'deer','dog', 'frog', 'horse', 'ship', 'truck')"
   ],
   "id": "b13d940291ee853d",
   "outputs": [],
   "execution_count": 5
  },
  {
   "metadata": {
    "ExecuteTime": {
     "end_time": "2025-10-26T15:26:34.698169Z",
     "start_time": "2025-10-26T14:38:48.756488Z"
    }
   },
   "cell_type": "code",
   "source": [
    "model = reznet18_for_cifar10()\n",
    "criterion = nn.CrossEntropyLoss()\n",
    "optimizer = optim.SGD(model.parameters(), lr=0.1, momentum=0.9, weight_decay=1e-3)\n",
    "scheduler = torch.optim.lr_scheduler.StepLR(optimizer, step_size=30, gamma=0.1)\n",
    "\n",
    "num_epochs = 200\n",
    "\n",
    "model.to(device)\n",
    "\n",
    "train_losses = []\n",
    "test_losses = []\n",
    "train_accuracies = []\n",
    "test_accuracies = []\n",
    "best_test_accuracy = 0\n",
    "patience_counter = 0\n",
    "MAX_PATIENCE = 20\n",
    "\n",
    "for epoch in range(num_epochs):\n",
    "    train_running_loss = 0.0\n",
    "    train_correct = 0\n",
    "    \n",
    "    model.train()\n",
    "    \n",
    "    for images, labels in tqdm(train_loader, leave=True):\n",
    "        images, labels = images.to(device), labels.to(device)\n",
    "        optimizer.zero_grad()\n",
    "        outputs = model(images)\n",
    "        \n",
    "        loss = criterion(outputs, labels)\n",
    "        loss.backward()\n",
    "        \n",
    "        optimizer.step()\n",
    "        train_running_loss += loss.item()\n",
    "        \n",
    "        _, predicted = outputs.max(1)\n",
    "        train_correct += predicted.eq(labels).sum().item()\n",
    "        \n",
    "    train_loss = train_running_loss / len(train_loader)\n",
    "    train_losses.append(train_loss)\n",
    "    train_accuracy = train_correct / len(train_set)\n",
    "    train_accuracies.append(train_accuracy)\n",
    "    \n",
    "    \n",
    "    model.eval()\n",
    "    test_running_loss = 0.0\n",
    "    test_correct = 0\n",
    "    test_total = 0\n",
    "    with torch.no_grad():\n",
    "        \n",
    "        for images, labels in test_loader:\n",
    "            images, labels = images.to(device), labels.to(device)\n",
    "            outputs = model(images)\n",
    "            loss = criterion(outputs, labels)\n",
    "            \n",
    "            test_running_loss += loss.item()\n",
    "            \n",
    "            _, predicted = outputs.max(1)\n",
    "            test_correct += predicted.eq(labels).sum().item()\n",
    "            \n",
    "    test_loss = test_running_loss / len(test_loader)\n",
    "    test_losses.append(test_loss)\n",
    "    test_accuracy = test_correct / len(test_set)\n",
    "    test_accuracies.append(test_accuracy)\n",
    "    \n",
    "    current_lr = optimizer.param_groups[0]['lr']\n",
    "    scheduler.step()\n",
    "    \n",
    "    print(f'Epoch: [{epoch+1}/{num_epochs}], train_loss = {train_loss:.4f}, train_acc = {train_accuracy:.4f}, test_loss = {test_loss:.4f}, test_accuracy = {test_accuracy:.4f}')\n",
    "    \n",
    "    if test_accuracy > best_test_accuracy:\n",
    "        best_test_accuracy = test_accuracy\n",
    "        patience_counter = 0\n",
    "        \n",
    "        print(f'Сохранена новая лучшая модель: {test_accuracy:.4f}')\n",
    "        \n",
    "        PATH = 'models/cifar_reznet_best.pth'\n",
    "        torch.save(model.state_dict(), PATH)\n",
    "        \n",
    "        accuracy_percent = int(test_accuracy * 10000)  # 93.61% -> 9361\n",
    "        BACKUP_PATH = f'models/cifar_reznet_{accuracy_percent}.pth'\n",
    "        torch.save(model.state_dict(), BACKUP_PATH)\n",
    "    else:\n",
    "        patience_counter += 1\n",
    "        print(f'Без улучшения {patience_counter}/{MAX_PATIENCE} эпох')\n",
    "    \n",
    "        if patience_counter >= MAX_PATIENCE:\n",
    "            print(\" Ранняя остановка, нет улучшений\")\n",
    "            break\n",
    "            \n",
    "print('Сохранена последняя модель')\n",
    "PATH = 'models/cifar_reznet_last.pth'\n",
    "torch.save(model.state_dict(), PATH)\n",
    "print('Закончили обучение')"
   ],
   "id": "493cf26014ecf1ae",
   "outputs": [
    {
     "name": "stderr",
     "output_type": "stream",
     "text": [
      "C:\\Users\\Devourer\\AppData\\Local\\pypoetry\\Cache\\virtualenvs\\ai-test-task-O710Er_i-py3.13\\Lib\\site-packages\\torchvision\\models\\_utils.py:208: UserWarning: The parameter 'pretrained' is deprecated since 0.13 and may be removed in the future, please use 'weights' instead.\n",
      "  warnings.warn(\n",
      "C:\\Users\\Devourer\\AppData\\Local\\pypoetry\\Cache\\virtualenvs\\ai-test-task-O710Er_i-py3.13\\Lib\\site-packages\\torchvision\\models\\_utils.py:223: UserWarning: Arguments other than a weight enum or `None` for 'weights' are deprecated since 0.13 and may be removed in the future. The current behavior is equivalent to passing `weights=None`.\n",
      "  warnings.warn(msg)\n",
      "100%|██████████| 98/98 [00:21<00:00,  4.58it/s]\n"
     ]
    },
    {
     "name": "stdout",
     "output_type": "stream",
     "text": [
      "Epoch: [1/200], train_loss = 2.2276, train_acc = 0.2209, test_loss = 1.7584, test_accuracy = 0.3293\n",
      "Сохранена новая лучшая модель: 0.3293\n"
     ]
    },
    {
     "name": "stderr",
     "output_type": "stream",
     "text": [
      "100%|██████████| 98/98 [00:21<00:00,  4.47it/s]\n"
     ]
    },
    {
     "name": "stdout",
     "output_type": "stream",
     "text": [
      "Epoch: [2/200], train_loss = 1.6638, train_acc = 0.3756, test_loss = 1.5137, test_accuracy = 0.4342\n",
      "Сохранена новая лучшая модель: 0.4342\n"
     ]
    },
    {
     "name": "stderr",
     "output_type": "stream",
     "text": [
      "100%|██████████| 98/98 [00:21<00:00,  4.54it/s]\n"
     ]
    },
    {
     "name": "stdout",
     "output_type": "stream",
     "text": [
      "Epoch: [3/200], train_loss = 1.4304, train_acc = 0.4744, test_loss = 1.8077, test_accuracy = 0.4261\n",
      "Без улучшения 1/20 эпох\n"
     ]
    },
    {
     "name": "stderr",
     "output_type": "stream",
     "text": [
      "100%|██████████| 98/98 [00:21<00:00,  4.56it/s]\n"
     ]
    },
    {
     "name": "stdout",
     "output_type": "stream",
     "text": [
      "Epoch: [4/200], train_loss = 1.2404, train_acc = 0.5480, test_loss = 1.2569, test_accuracy = 0.5660\n",
      "Сохранена новая лучшая модель: 0.5660\n"
     ]
    },
    {
     "name": "stderr",
     "output_type": "stream",
     "text": [
      "100%|██████████| 98/98 [00:20<00:00,  4.69it/s]\n"
     ]
    },
    {
     "name": "stdout",
     "output_type": "stream",
     "text": [
      "Epoch: [5/200], train_loss = 1.0669, train_acc = 0.6197, test_loss = 1.2103, test_accuracy = 0.5939\n",
      "Сохранена новая лучшая модель: 0.5939\n"
     ]
    },
    {
     "name": "stderr",
     "output_type": "stream",
     "text": [
      "100%|██████████| 98/98 [00:22<00:00,  4.32it/s]\n"
     ]
    },
    {
     "name": "stdout",
     "output_type": "stream",
     "text": [
      "Epoch: [6/200], train_loss = 0.9422, train_acc = 0.6646, test_loss = 0.9732, test_accuracy = 0.6664\n",
      "Сохранена новая лучшая модель: 0.6664\n"
     ]
    },
    {
     "name": "stderr",
     "output_type": "stream",
     "text": [
      "100%|██████████| 98/98 [00:21<00:00,  4.49it/s]\n"
     ]
    },
    {
     "name": "stdout",
     "output_type": "stream",
     "text": [
      "Epoch: [7/200], train_loss = 0.8299, train_acc = 0.7069, test_loss = 0.7607, test_accuracy = 0.7304\n",
      "Сохранена новая лучшая модель: 0.7304\n"
     ]
    },
    {
     "name": "stderr",
     "output_type": "stream",
     "text": [
      "100%|██████████| 98/98 [00:20<00:00,  4.71it/s]\n"
     ]
    },
    {
     "name": "stdout",
     "output_type": "stream",
     "text": [
      "Epoch: [8/200], train_loss = 0.7385, train_acc = 0.7397, test_loss = 0.7053, test_accuracy = 0.7572\n",
      "Сохранена новая лучшая модель: 0.7572\n"
     ]
    },
    {
     "name": "stderr",
     "output_type": "stream",
     "text": [
      "100%|██████████| 98/98 [00:21<00:00,  4.58it/s]\n"
     ]
    },
    {
     "name": "stdout",
     "output_type": "stream",
     "text": [
      "Epoch: [9/200], train_loss = 0.6715, train_acc = 0.7653, test_loss = 0.9485, test_accuracy = 0.7045\n",
      "Без улучшения 1/20 эпох\n"
     ]
    },
    {
     "name": "stderr",
     "output_type": "stream",
     "text": [
      "100%|██████████| 98/98 [00:20<00:00,  4.78it/s]\n"
     ]
    },
    {
     "name": "stdout",
     "output_type": "stream",
     "text": [
      "Epoch: [10/200], train_loss = 0.6139, train_acc = 0.7865, test_loss = 0.7315, test_accuracy = 0.7499\n",
      "Без улучшения 2/20 эпох\n"
     ]
    },
    {
     "name": "stderr",
     "output_type": "stream",
     "text": [
      "100%|██████████| 98/98 [00:20<00:00,  4.81it/s]\n"
     ]
    },
    {
     "name": "stdout",
     "output_type": "stream",
     "text": [
      "Epoch: [11/200], train_loss = 0.5809, train_acc = 0.7979, test_loss = 0.8079, test_accuracy = 0.7377\n",
      "Без улучшения 3/20 эпох\n"
     ]
    },
    {
     "name": "stderr",
     "output_type": "stream",
     "text": [
      "100%|██████████| 98/98 [00:19<00:00,  4.94it/s]\n"
     ]
    },
    {
     "name": "stdout",
     "output_type": "stream",
     "text": [
      "Epoch: [12/200], train_loss = 0.5450, train_acc = 0.8100, test_loss = 0.6016, test_accuracy = 0.7979\n",
      "Сохранена новая лучшая модель: 0.7979\n"
     ]
    },
    {
     "name": "stderr",
     "output_type": "stream",
     "text": [
      "100%|██████████| 98/98 [00:20<00:00,  4.73it/s]\n"
     ]
    },
    {
     "name": "stdout",
     "output_type": "stream",
     "text": [
      "Epoch: [13/200], train_loss = 0.5136, train_acc = 0.8232, test_loss = 0.5174, test_accuracy = 0.8211\n",
      "Сохранена новая лучшая модель: 0.8211\n"
     ]
    },
    {
     "name": "stderr",
     "output_type": "stream",
     "text": [
      "100%|██████████| 98/98 [00:20<00:00,  4.76it/s]\n"
     ]
    },
    {
     "name": "stdout",
     "output_type": "stream",
     "text": [
      "Epoch: [14/200], train_loss = 0.4979, train_acc = 0.8261, test_loss = 0.5175, test_accuracy = 0.8262\n",
      "Сохранена новая лучшая модель: 0.8262\n"
     ]
    },
    {
     "name": "stderr",
     "output_type": "stream",
     "text": [
      "100%|██████████| 98/98 [00:20<00:00,  4.76it/s]\n"
     ]
    },
    {
     "name": "stdout",
     "output_type": "stream",
     "text": [
      "Epoch: [15/200], train_loss = 0.4755, train_acc = 0.8349, test_loss = 0.5041, test_accuracy = 0.8289\n",
      "Сохранена новая лучшая модель: 0.8289\n"
     ]
    },
    {
     "name": "stderr",
     "output_type": "stream",
     "text": [
      "100%|██████████| 98/98 [00:20<00:00,  4.71it/s]\n"
     ]
    },
    {
     "name": "stdout",
     "output_type": "stream",
     "text": [
      "Epoch: [16/200], train_loss = 0.4605, train_acc = 0.8410, test_loss = 0.9986, test_accuracy = 0.7047\n",
      "Без улучшения 1/20 эпох\n"
     ]
    },
    {
     "name": "stderr",
     "output_type": "stream",
     "text": [
      "100%|██████████| 98/98 [00:20<00:00,  4.83it/s]\n"
     ]
    },
    {
     "name": "stdout",
     "output_type": "stream",
     "text": [
      "Epoch: [17/200], train_loss = 0.4462, train_acc = 0.8472, test_loss = 0.5145, test_accuracy = 0.8254\n",
      "Без улучшения 2/20 эпох\n"
     ]
    },
    {
     "name": "stderr",
     "output_type": "stream",
     "text": [
      "100%|██████████| 98/98 [00:20<00:00,  4.78it/s]\n"
     ]
    },
    {
     "name": "stdout",
     "output_type": "stream",
     "text": [
      "Epoch: [18/200], train_loss = 0.4379, train_acc = 0.8501, test_loss = 0.5712, test_accuracy = 0.8133\n",
      "Без улучшения 3/20 эпох\n"
     ]
    },
    {
     "name": "stderr",
     "output_type": "stream",
     "text": [
      "100%|██████████| 98/98 [00:19<00:00,  4.91it/s]\n"
     ]
    },
    {
     "name": "stdout",
     "output_type": "stream",
     "text": [
      "Epoch: [19/200], train_loss = 0.4205, train_acc = 0.8545, test_loss = 0.6355, test_accuracy = 0.7990\n",
      "Без улучшения 4/20 эпох\n"
     ]
    },
    {
     "name": "stderr",
     "output_type": "stream",
     "text": [
      "100%|██████████| 98/98 [00:20<00:00,  4.88it/s]\n"
     ]
    },
    {
     "name": "stdout",
     "output_type": "stream",
     "text": [
      "Epoch: [20/200], train_loss = 0.4123, train_acc = 0.8581, test_loss = 0.4865, test_accuracy = 0.8388\n",
      "Сохранена новая лучшая модель: 0.8388\n"
     ]
    },
    {
     "name": "stderr",
     "output_type": "stream",
     "text": [
      "100%|██████████| 98/98 [00:20<00:00,  4.74it/s]\n"
     ]
    },
    {
     "name": "stdout",
     "output_type": "stream",
     "text": [
      "Epoch: [21/200], train_loss = 0.4035, train_acc = 0.8601, test_loss = 0.4601, test_accuracy = 0.8447\n",
      "Сохранена новая лучшая модель: 0.8447\n"
     ]
    },
    {
     "name": "stderr",
     "output_type": "stream",
     "text": [
      "100%|██████████| 98/98 [00:20<00:00,  4.76it/s]\n"
     ]
    },
    {
     "name": "stdout",
     "output_type": "stream",
     "text": [
      "Epoch: [22/200], train_loss = 0.4022, train_acc = 0.8619, test_loss = 0.4705, test_accuracy = 0.8448\n",
      "Сохранена новая лучшая модель: 0.8448\n"
     ]
    },
    {
     "name": "stderr",
     "output_type": "stream",
     "text": [
      "100%|██████████| 98/98 [00:20<00:00,  4.67it/s]\n"
     ]
    },
    {
     "name": "stdout",
     "output_type": "stream",
     "text": [
      "Epoch: [23/200], train_loss = 0.3931, train_acc = 0.8647, test_loss = 0.5186, test_accuracy = 0.8221\n",
      "Без улучшения 1/20 эпох\n"
     ]
    },
    {
     "name": "stderr",
     "output_type": "stream",
     "text": [
      "100%|██████████| 98/98 [00:20<00:00,  4.84it/s]\n"
     ]
    },
    {
     "name": "stdout",
     "output_type": "stream",
     "text": [
      "Epoch: [24/200], train_loss = 0.3919, train_acc = 0.8663, test_loss = 0.5207, test_accuracy = 0.8241\n",
      "Без улучшения 2/20 эпох\n"
     ]
    },
    {
     "name": "stderr",
     "output_type": "stream",
     "text": [
      "100%|██████████| 98/98 [00:20<00:00,  4.78it/s]\n"
     ]
    },
    {
     "name": "stdout",
     "output_type": "stream",
     "text": [
      "Epoch: [25/200], train_loss = 0.3822, train_acc = 0.8697, test_loss = 0.4903, test_accuracy = 0.8368\n",
      "Без улучшения 3/20 эпох\n"
     ]
    },
    {
     "name": "stderr",
     "output_type": "stream",
     "text": [
      "100%|██████████| 98/98 [00:20<00:00,  4.89it/s]\n"
     ]
    },
    {
     "name": "stdout",
     "output_type": "stream",
     "text": [
      "Epoch: [26/200], train_loss = 0.3736, train_acc = 0.8707, test_loss = 0.5440, test_accuracy = 0.8242\n",
      "Без улучшения 4/20 эпох\n"
     ]
    },
    {
     "name": "stderr",
     "output_type": "stream",
     "text": [
      "100%|██████████| 98/98 [00:20<00:00,  4.80it/s]\n"
     ]
    },
    {
     "name": "stdout",
     "output_type": "stream",
     "text": [
      "Epoch: [27/200], train_loss = 0.3709, train_acc = 0.8717, test_loss = 0.4084, test_accuracy = 0.8575\n",
      "Сохранена новая лучшая модель: 0.8575\n"
     ]
    },
    {
     "name": "stderr",
     "output_type": "stream",
     "text": [
      "100%|██████████| 98/98 [00:20<00:00,  4.75it/s]\n"
     ]
    },
    {
     "name": "stdout",
     "output_type": "stream",
     "text": [
      "Epoch: [28/200], train_loss = 0.3643, train_acc = 0.8755, test_loss = 0.5526, test_accuracy = 0.8197\n",
      "Без улучшения 1/20 эпох\n"
     ]
    },
    {
     "name": "stderr",
     "output_type": "stream",
     "text": [
      "100%|██████████| 98/98 [00:20<00:00,  4.84it/s]\n"
     ]
    },
    {
     "name": "stdout",
     "output_type": "stream",
     "text": [
      "Epoch: [29/200], train_loss = 0.3621, train_acc = 0.8758, test_loss = 0.4920, test_accuracy = 0.8362\n",
      "Без улучшения 2/20 эпох\n"
     ]
    },
    {
     "name": "stderr",
     "output_type": "stream",
     "text": [
      "100%|██████████| 98/98 [00:20<00:00,  4.72it/s]\n"
     ]
    },
    {
     "name": "stdout",
     "output_type": "stream",
     "text": [
      "Epoch: [30/200], train_loss = 0.3643, train_acc = 0.8748, test_loss = 0.5018, test_accuracy = 0.8384\n",
      "Без улучшения 3/20 эпох\n"
     ]
    },
    {
     "name": "stderr",
     "output_type": "stream",
     "text": [
      "100%|██████████| 98/98 [00:20<00:00,  4.78it/s]\n"
     ]
    },
    {
     "name": "stdout",
     "output_type": "stream",
     "text": [
      "Epoch: [31/200], train_loss = 0.2417, train_acc = 0.9189, test_loss = 0.2393, test_accuracy = 0.9187\n",
      "Сохранена новая лучшая модель: 0.9187\n"
     ]
    },
    {
     "name": "stderr",
     "output_type": "stream",
     "text": [
      "100%|██████████| 98/98 [00:20<00:00,  4.76it/s]\n"
     ]
    },
    {
     "name": "stdout",
     "output_type": "stream",
     "text": [
      "Epoch: [32/200], train_loss = 0.1935, train_acc = 0.9359, test_loss = 0.2261, test_accuracy = 0.9217\n",
      "Сохранена новая лучшая модель: 0.9217\n"
     ]
    },
    {
     "name": "stderr",
     "output_type": "stream",
     "text": [
      "100%|██████████| 98/98 [00:23<00:00,  4.21it/s]\n"
     ]
    },
    {
     "name": "stdout",
     "output_type": "stream",
     "text": [
      "Epoch: [33/200], train_loss = 0.1733, train_acc = 0.9423, test_loss = 0.2220, test_accuracy = 0.9260\n",
      "Сохранена новая лучшая модель: 0.9260\n"
     ]
    },
    {
     "name": "stderr",
     "output_type": "stream",
     "text": [
      "100%|██████████| 98/98 [00:22<00:00,  4.26it/s]\n"
     ]
    },
    {
     "name": "stdout",
     "output_type": "stream",
     "text": [
      "Epoch: [34/200], train_loss = 0.1604, train_acc = 0.9466, test_loss = 0.2125, test_accuracy = 0.9271\n",
      "Сохранена новая лучшая модель: 0.9271\n"
     ]
    },
    {
     "name": "stderr",
     "output_type": "stream",
     "text": [
      "100%|██████████| 98/98 [00:20<00:00,  4.85it/s]\n"
     ]
    },
    {
     "name": "stdout",
     "output_type": "stream",
     "text": [
      "Epoch: [35/200], train_loss = 0.1534, train_acc = 0.9485, test_loss = 0.2148, test_accuracy = 0.9276\n",
      "Сохранена новая лучшая модель: 0.9276\n"
     ]
    },
    {
     "name": "stderr",
     "output_type": "stream",
     "text": [
      "100%|██████████| 98/98 [00:20<00:00,  4.73it/s]\n"
     ]
    },
    {
     "name": "stdout",
     "output_type": "stream",
     "text": [
      "Epoch: [36/200], train_loss = 0.1425, train_acc = 0.9518, test_loss = 0.2133, test_accuracy = 0.9280\n",
      "Сохранена новая лучшая модель: 0.9280\n"
     ]
    },
    {
     "name": "stderr",
     "output_type": "stream",
     "text": [
      "100%|██████████| 98/98 [00:20<00:00,  4.67it/s]\n"
     ]
    },
    {
     "name": "stdout",
     "output_type": "stream",
     "text": [
      "Epoch: [37/200], train_loss = 0.1393, train_acc = 0.9527, test_loss = 0.2056, test_accuracy = 0.9293\n",
      "Сохранена новая лучшая модель: 0.9293\n"
     ]
    },
    {
     "name": "stderr",
     "output_type": "stream",
     "text": [
      "100%|██████████| 98/98 [00:20<00:00,  4.76it/s]\n"
     ]
    },
    {
     "name": "stdout",
     "output_type": "stream",
     "text": [
      "Epoch: [38/200], train_loss = 0.1286, train_acc = 0.9564, test_loss = 0.2087, test_accuracy = 0.9305\n",
      "Сохранена новая лучшая модель: 0.9305\n"
     ]
    },
    {
     "name": "stderr",
     "output_type": "stream",
     "text": [
      "100%|██████████| 98/98 [00:20<00:00,  4.72it/s]\n"
     ]
    },
    {
     "name": "stdout",
     "output_type": "stream",
     "text": [
      "Epoch: [39/200], train_loss = 0.1244, train_acc = 0.9572, test_loss = 0.2162, test_accuracy = 0.9299\n",
      "Без улучшения 1/20 эпох\n"
     ]
    },
    {
     "name": "stderr",
     "output_type": "stream",
     "text": [
      "100%|██████████| 98/98 [00:20<00:00,  4.68it/s]\n"
     ]
    },
    {
     "name": "stdout",
     "output_type": "stream",
     "text": [
      "Epoch: [40/200], train_loss = 0.1201, train_acc = 0.9599, test_loss = 0.2197, test_accuracy = 0.9283\n",
      "Без улучшения 2/20 эпох\n"
     ]
    },
    {
     "name": "stderr",
     "output_type": "stream",
     "text": [
      "100%|██████████| 98/98 [00:20<00:00,  4.82it/s]\n"
     ]
    },
    {
     "name": "stdout",
     "output_type": "stream",
     "text": [
      "Epoch: [41/200], train_loss = 0.1152, train_acc = 0.9614, test_loss = 0.2175, test_accuracy = 0.9290\n",
      "Без улучшения 3/20 эпох\n"
     ]
    },
    {
     "name": "stderr",
     "output_type": "stream",
     "text": [
      "100%|██████████| 98/98 [00:20<00:00,  4.87it/s]\n"
     ]
    },
    {
     "name": "stdout",
     "output_type": "stream",
     "text": [
      "Epoch: [42/200], train_loss = 0.1095, train_acc = 0.9626, test_loss = 0.2086, test_accuracy = 0.9314\n",
      "Сохранена новая лучшая модель: 0.9314\n"
     ]
    },
    {
     "name": "stderr",
     "output_type": "stream",
     "text": [
      "100%|██████████| 98/98 [00:20<00:00,  4.79it/s]\n"
     ]
    },
    {
     "name": "stdout",
     "output_type": "stream",
     "text": [
      "Epoch: [43/200], train_loss = 0.1039, train_acc = 0.9645, test_loss = 0.2237, test_accuracy = 0.9288\n",
      "Без улучшения 1/20 эпох\n"
     ]
    },
    {
     "name": "stderr",
     "output_type": "stream",
     "text": [
      "100%|██████████| 98/98 [00:21<00:00,  4.63it/s]\n"
     ]
    },
    {
     "name": "stdout",
     "output_type": "stream",
     "text": [
      "Epoch: [44/200], train_loss = 0.1044, train_acc = 0.9648, test_loss = 0.2281, test_accuracy = 0.9278\n",
      "Без улучшения 2/20 эпох\n"
     ]
    },
    {
     "name": "stderr",
     "output_type": "stream",
     "text": [
      "100%|██████████| 98/98 [00:20<00:00,  4.84it/s]\n"
     ]
    },
    {
     "name": "stdout",
     "output_type": "stream",
     "text": [
      "Epoch: [45/200], train_loss = 0.0985, train_acc = 0.9666, test_loss = 0.2150, test_accuracy = 0.9294\n",
      "Без улучшения 3/20 эпох\n"
     ]
    },
    {
     "name": "stderr",
     "output_type": "stream",
     "text": [
      "100%|██████████| 98/98 [00:20<00:00,  4.84it/s]\n"
     ]
    },
    {
     "name": "stdout",
     "output_type": "stream",
     "text": [
      "Epoch: [46/200], train_loss = 0.0952, train_acc = 0.9677, test_loss = 0.2311, test_accuracy = 0.9269\n",
      "Без улучшения 4/20 эпох\n"
     ]
    },
    {
     "name": "stderr",
     "output_type": "stream",
     "text": [
      "100%|██████████| 98/98 [00:20<00:00,  4.79it/s]\n"
     ]
    },
    {
     "name": "stdout",
     "output_type": "stream",
     "text": [
      "Epoch: [47/200], train_loss = 0.0908, train_acc = 0.9694, test_loss = 0.2349, test_accuracy = 0.9254\n",
      "Без улучшения 5/20 эпох\n"
     ]
    },
    {
     "name": "stderr",
     "output_type": "stream",
     "text": [
      "100%|██████████| 98/98 [00:20<00:00,  4.89it/s]\n"
     ]
    },
    {
     "name": "stdout",
     "output_type": "stream",
     "text": [
      "Epoch: [48/200], train_loss = 0.0864, train_acc = 0.9716, test_loss = 0.2190, test_accuracy = 0.9278\n",
      "Без улучшения 6/20 эпох\n"
     ]
    },
    {
     "name": "stderr",
     "output_type": "stream",
     "text": [
      "100%|██████████| 98/98 [00:20<00:00,  4.77it/s]\n"
     ]
    },
    {
     "name": "stdout",
     "output_type": "stream",
     "text": [
      "Epoch: [49/200], train_loss = 0.0836, train_acc = 0.9718, test_loss = 0.2371, test_accuracy = 0.9239\n",
      "Без улучшения 7/20 эпох\n"
     ]
    },
    {
     "name": "stderr",
     "output_type": "stream",
     "text": [
      "100%|██████████| 98/98 [00:20<00:00,  4.81it/s]\n"
     ]
    },
    {
     "name": "stdout",
     "output_type": "stream",
     "text": [
      "Epoch: [50/200], train_loss = 0.0843, train_acc = 0.9716, test_loss = 0.2331, test_accuracy = 0.9279\n",
      "Без улучшения 8/20 эпох\n"
     ]
    },
    {
     "name": "stderr",
     "output_type": "stream",
     "text": [
      "100%|██████████| 98/98 [00:20<00:00,  4.81it/s]\n"
     ]
    },
    {
     "name": "stdout",
     "output_type": "stream",
     "text": [
      "Epoch: [51/200], train_loss = 0.0832, train_acc = 0.9727, test_loss = 0.2316, test_accuracy = 0.9285\n",
      "Без улучшения 9/20 эпох\n"
     ]
    },
    {
     "name": "stderr",
     "output_type": "stream",
     "text": [
      "100%|██████████| 98/98 [00:20<00:00,  4.76it/s]\n"
     ]
    },
    {
     "name": "stdout",
     "output_type": "stream",
     "text": [
      "Epoch: [52/200], train_loss = 0.0780, train_acc = 0.9744, test_loss = 0.2315, test_accuracy = 0.9296\n",
      "Без улучшения 10/20 эпох\n"
     ]
    },
    {
     "name": "stderr",
     "output_type": "stream",
     "text": [
      "100%|██████████| 98/98 [00:20<00:00,  4.80it/s]\n"
     ]
    },
    {
     "name": "stdout",
     "output_type": "stream",
     "text": [
      "Epoch: [53/200], train_loss = 0.0770, train_acc = 0.9744, test_loss = 0.2409, test_accuracy = 0.9259\n",
      "Без улучшения 11/20 эпох\n"
     ]
    },
    {
     "name": "stderr",
     "output_type": "stream",
     "text": [
      "100%|██████████| 98/98 [00:21<00:00,  4.61it/s]\n"
     ]
    },
    {
     "name": "stdout",
     "output_type": "stream",
     "text": [
      "Epoch: [54/200], train_loss = 0.0737, train_acc = 0.9757, test_loss = 0.2470, test_accuracy = 0.9263\n",
      "Без улучшения 12/20 эпох\n"
     ]
    },
    {
     "name": "stderr",
     "output_type": "stream",
     "text": [
      "100%|██████████| 98/98 [00:20<00:00,  4.85it/s]\n"
     ]
    },
    {
     "name": "stdout",
     "output_type": "stream",
     "text": [
      "Epoch: [55/200], train_loss = 0.0747, train_acc = 0.9749, test_loss = 0.2392, test_accuracy = 0.9264\n",
      "Без улучшения 13/20 эпох\n"
     ]
    },
    {
     "name": "stderr",
     "output_type": "stream",
     "text": [
      "100%|██████████| 98/98 [00:20<00:00,  4.85it/s]\n"
     ]
    },
    {
     "name": "stdout",
     "output_type": "stream",
     "text": [
      "Epoch: [56/200], train_loss = 0.0727, train_acc = 0.9762, test_loss = 0.2418, test_accuracy = 0.9277\n",
      "Без улучшения 14/20 эпох\n"
     ]
    },
    {
     "name": "stderr",
     "output_type": "stream",
     "text": [
      "100%|██████████| 98/98 [00:20<00:00,  4.78it/s]\n"
     ]
    },
    {
     "name": "stdout",
     "output_type": "stream",
     "text": [
      "Epoch: [57/200], train_loss = 0.0695, train_acc = 0.9769, test_loss = 0.2450, test_accuracy = 0.9278\n",
      "Без улучшения 15/20 эпох\n"
     ]
    },
    {
     "name": "stderr",
     "output_type": "stream",
     "text": [
      "100%|██████████| 98/98 [00:20<00:00,  4.88it/s]\n"
     ]
    },
    {
     "name": "stdout",
     "output_type": "stream",
     "text": [
      "Epoch: [58/200], train_loss = 0.0714, train_acc = 0.9761, test_loss = 0.2323, test_accuracy = 0.9312\n",
      "Без улучшения 16/20 эпох\n"
     ]
    },
    {
     "name": "stderr",
     "output_type": "stream",
     "text": [
      "100%|██████████| 98/98 [00:20<00:00,  4.88it/s]\n"
     ]
    },
    {
     "name": "stdout",
     "output_type": "stream",
     "text": [
      "Epoch: [59/200], train_loss = 0.0671, train_acc = 0.9773, test_loss = 0.2513, test_accuracy = 0.9287\n",
      "Без улучшения 17/20 эпох\n"
     ]
    },
    {
     "name": "stderr",
     "output_type": "stream",
     "text": [
      "100%|██████████| 98/98 [00:20<00:00,  4.82it/s]\n"
     ]
    },
    {
     "name": "stdout",
     "output_type": "stream",
     "text": [
      "Epoch: [60/200], train_loss = 0.0697, train_acc = 0.9772, test_loss = 0.2481, test_accuracy = 0.9253\n",
      "Без улучшения 18/20 эпох\n"
     ]
    },
    {
     "name": "stderr",
     "output_type": "stream",
     "text": [
      "100%|██████████| 98/98 [00:20<00:00,  4.83it/s]\n"
     ]
    },
    {
     "name": "stdout",
     "output_type": "stream",
     "text": [
      "Epoch: [61/200], train_loss = 0.0511, train_acc = 0.9839, test_loss = 0.2098, test_accuracy = 0.9372\n",
      "Сохранена новая лучшая модель: 0.9372\n"
     ]
    },
    {
     "name": "stderr",
     "output_type": "stream",
     "text": [
      "100%|██████████| 98/98 [00:20<00:00,  4.72it/s]\n"
     ]
    },
    {
     "name": "stdout",
     "output_type": "stream",
     "text": [
      "Epoch: [62/200], train_loss = 0.0427, train_acc = 0.9868, test_loss = 0.2064, test_accuracy = 0.9379\n",
      "Сохранена новая лучшая модель: 0.9379\n"
     ]
    },
    {
     "name": "stderr",
     "output_type": "stream",
     "text": [
      "100%|██████████| 98/98 [00:20<00:00,  4.86it/s]\n"
     ]
    },
    {
     "name": "stdout",
     "output_type": "stream",
     "text": [
      "Epoch: [63/200], train_loss = 0.0415, train_acc = 0.9873, test_loss = 0.2053, test_accuracy = 0.9382\n",
      "Сохранена новая лучшая модель: 0.9382\n"
     ]
    },
    {
     "name": "stderr",
     "output_type": "stream",
     "text": [
      "100%|██████████| 98/98 [00:20<00:00,  4.79it/s]\n"
     ]
    },
    {
     "name": "stdout",
     "output_type": "stream",
     "text": [
      "Epoch: [64/200], train_loss = 0.0354, train_acc = 0.9895, test_loss = 0.2050, test_accuracy = 0.9379\n",
      "Без улучшения 1/20 эпох\n"
     ]
    },
    {
     "name": "stderr",
     "output_type": "stream",
     "text": [
      "100%|██████████| 98/98 [00:20<00:00,  4.88it/s]\n"
     ]
    },
    {
     "name": "stdout",
     "output_type": "stream",
     "text": [
      "Epoch: [65/200], train_loss = 0.0360, train_acc = 0.9891, test_loss = 0.2064, test_accuracy = 0.9379\n",
      "Без улучшения 2/20 эпох\n"
     ]
    },
    {
     "name": "stderr",
     "output_type": "stream",
     "text": [
      "100%|██████████| 98/98 [00:20<00:00,  4.85it/s]\n"
     ]
    },
    {
     "name": "stdout",
     "output_type": "stream",
     "text": [
      "Epoch: [66/200], train_loss = 0.0335, train_acc = 0.9899, test_loss = 0.2045, test_accuracy = 0.9381\n",
      "Без улучшения 3/20 эпох\n"
     ]
    },
    {
     "name": "stderr",
     "output_type": "stream",
     "text": [
      "100%|██████████| 98/98 [00:20<00:00,  4.86it/s]\n"
     ]
    },
    {
     "name": "stdout",
     "output_type": "stream",
     "text": [
      "Epoch: [67/200], train_loss = 0.0333, train_acc = 0.9906, test_loss = 0.2054, test_accuracy = 0.9388\n",
      "Сохранена новая лучшая модель: 0.9388\n"
     ]
    },
    {
     "name": "stderr",
     "output_type": "stream",
     "text": [
      "100%|██████████| 98/98 [00:20<00:00,  4.81it/s]\n"
     ]
    },
    {
     "name": "stdout",
     "output_type": "stream",
     "text": [
      "Epoch: [68/200], train_loss = 0.0321, train_acc = 0.9906, test_loss = 0.2056, test_accuracy = 0.9384\n",
      "Без улучшения 1/20 эпох\n"
     ]
    },
    {
     "name": "stderr",
     "output_type": "stream",
     "text": [
      "100%|██████████| 98/98 [00:20<00:00,  4.87it/s]\n"
     ]
    },
    {
     "name": "stdout",
     "output_type": "stream",
     "text": [
      "Epoch: [69/200], train_loss = 0.0320, train_acc = 0.9907, test_loss = 0.2068, test_accuracy = 0.9382\n",
      "Без улучшения 2/20 эпох\n"
     ]
    },
    {
     "name": "stderr",
     "output_type": "stream",
     "text": [
      "100%|██████████| 98/98 [00:19<00:00,  4.94it/s]\n"
     ]
    },
    {
     "name": "stdout",
     "output_type": "stream",
     "text": [
      "Epoch: [70/200], train_loss = 0.0313, train_acc = 0.9905, test_loss = 0.2067, test_accuracy = 0.9388\n",
      "Без улучшения 3/20 эпох\n"
     ]
    },
    {
     "name": "stderr",
     "output_type": "stream",
     "text": [
      "100%|██████████| 98/98 [00:21<00:00,  4.56it/s]\n"
     ]
    },
    {
     "name": "stdout",
     "output_type": "stream",
     "text": [
      "Epoch: [71/200], train_loss = 0.0314, train_acc = 0.9912, test_loss = 0.2055, test_accuracy = 0.9379\n",
      "Без улучшения 4/20 эпох\n"
     ]
    },
    {
     "name": "stderr",
     "output_type": "stream",
     "text": [
      "100%|██████████| 98/98 [00:20<00:00,  4.79it/s]\n"
     ]
    },
    {
     "name": "stdout",
     "output_type": "stream",
     "text": [
      "Epoch: [72/200], train_loss = 0.0294, train_acc = 0.9918, test_loss = 0.2064, test_accuracy = 0.9377\n",
      "Без улучшения 5/20 эпох\n"
     ]
    },
    {
     "name": "stderr",
     "output_type": "stream",
     "text": [
      "100%|██████████| 98/98 [00:20<00:00,  4.81it/s]\n"
     ]
    },
    {
     "name": "stdout",
     "output_type": "stream",
     "text": [
      "Epoch: [73/200], train_loss = 0.0304, train_acc = 0.9910, test_loss = 0.2064, test_accuracy = 0.9393\n",
      "Сохранена новая лучшая модель: 0.9393\n"
     ]
    },
    {
     "name": "stderr",
     "output_type": "stream",
     "text": [
      "100%|██████████| 98/98 [00:20<00:00,  4.69it/s]\n"
     ]
    },
    {
     "name": "stdout",
     "output_type": "stream",
     "text": [
      "Epoch: [74/200], train_loss = 0.0289, train_acc = 0.9921, test_loss = 0.2056, test_accuracy = 0.9391\n",
      "Без улучшения 1/20 эпох\n"
     ]
    },
    {
     "name": "stderr",
     "output_type": "stream",
     "text": [
      "100%|██████████| 98/98 [00:20<00:00,  4.79it/s]\n"
     ]
    },
    {
     "name": "stdout",
     "output_type": "stream",
     "text": [
      "Epoch: [75/200], train_loss = 0.0279, train_acc = 0.9921, test_loss = 0.2049, test_accuracy = 0.9390\n",
      "Без улучшения 2/20 эпох\n"
     ]
    },
    {
     "name": "stderr",
     "output_type": "stream",
     "text": [
      "100%|██████████| 98/98 [00:20<00:00,  4.78it/s]\n"
     ]
    },
    {
     "name": "stdout",
     "output_type": "stream",
     "text": [
      "Epoch: [76/200], train_loss = 0.0285, train_acc = 0.9920, test_loss = 0.2055, test_accuracy = 0.9389\n",
      "Без улучшения 3/20 эпох\n"
     ]
    },
    {
     "name": "stderr",
     "output_type": "stream",
     "text": [
      "100%|██████████| 98/98 [00:20<00:00,  4.81it/s]\n"
     ]
    },
    {
     "name": "stdout",
     "output_type": "stream",
     "text": [
      "Epoch: [77/200], train_loss = 0.0276, train_acc = 0.9923, test_loss = 0.2082, test_accuracy = 0.9386\n",
      "Без улучшения 4/20 эпох\n"
     ]
    },
    {
     "name": "stderr",
     "output_type": "stream",
     "text": [
      "100%|██████████| 98/98 [00:20<00:00,  4.74it/s]\n"
     ]
    },
    {
     "name": "stdout",
     "output_type": "stream",
     "text": [
      "Epoch: [78/200], train_loss = 0.0282, train_acc = 0.9920, test_loss = 0.2080, test_accuracy = 0.9387\n",
      "Без улучшения 5/20 эпох\n"
     ]
    },
    {
     "name": "stderr",
     "output_type": "stream",
     "text": [
      "100%|██████████| 98/98 [00:20<00:00,  4.79it/s]\n"
     ]
    },
    {
     "name": "stdout",
     "output_type": "stream",
     "text": [
      "Epoch: [79/200], train_loss = 0.0286, train_acc = 0.9921, test_loss = 0.2072, test_accuracy = 0.9389\n",
      "Без улучшения 6/20 эпох\n"
     ]
    },
    {
     "name": "stderr",
     "output_type": "stream",
     "text": [
      "100%|██████████| 98/98 [00:20<00:00,  4.77it/s]\n"
     ]
    },
    {
     "name": "stdout",
     "output_type": "stream",
     "text": [
      "Epoch: [80/200], train_loss = 0.0275, train_acc = 0.9925, test_loss = 0.2088, test_accuracy = 0.9384\n",
      "Без улучшения 7/20 эпох\n"
     ]
    },
    {
     "name": "stderr",
     "output_type": "stream",
     "text": [
      "100%|██████████| 98/98 [00:20<00:00,  4.83it/s]\n"
     ]
    },
    {
     "name": "stdout",
     "output_type": "stream",
     "text": [
      "Epoch: [81/200], train_loss = 0.0262, train_acc = 0.9926, test_loss = 0.2080, test_accuracy = 0.9374\n",
      "Без улучшения 8/20 эпох\n"
     ]
    },
    {
     "name": "stderr",
     "output_type": "stream",
     "text": [
      "100%|██████████| 98/98 [00:21<00:00,  4.64it/s]\n"
     ]
    },
    {
     "name": "stdout",
     "output_type": "stream",
     "text": [
      "Epoch: [82/200], train_loss = 0.0249, train_acc = 0.9927, test_loss = 0.2083, test_accuracy = 0.9381\n",
      "Без улучшения 9/20 эпох\n"
     ]
    },
    {
     "name": "stderr",
     "output_type": "stream",
     "text": [
      "100%|██████████| 98/98 [00:21<00:00,  4.66it/s]\n"
     ]
    },
    {
     "name": "stdout",
     "output_type": "stream",
     "text": [
      "Epoch: [83/200], train_loss = 0.0252, train_acc = 0.9929, test_loss = 0.2077, test_accuracy = 0.9388\n",
      "Без улучшения 10/20 эпох\n"
     ]
    },
    {
     "name": "stderr",
     "output_type": "stream",
     "text": [
      "100%|██████████| 98/98 [00:20<00:00,  4.82it/s]\n"
     ]
    },
    {
     "name": "stdout",
     "output_type": "stream",
     "text": [
      "Epoch: [84/200], train_loss = 0.0259, train_acc = 0.9926, test_loss = 0.2078, test_accuracy = 0.9395\n",
      "Сохранена новая лучшая модель: 0.9395\n"
     ]
    },
    {
     "name": "stderr",
     "output_type": "stream",
     "text": [
      "100%|██████████| 98/98 [00:20<00:00,  4.78it/s]\n"
     ]
    },
    {
     "name": "stdout",
     "output_type": "stream",
     "text": [
      "Epoch: [85/200], train_loss = 0.0250, train_acc = 0.9931, test_loss = 0.2076, test_accuracy = 0.9396\n",
      "Сохранена новая лучшая модель: 0.9396\n"
     ]
    },
    {
     "name": "stderr",
     "output_type": "stream",
     "text": [
      "100%|██████████| 98/98 [00:20<00:00,  4.72it/s]\n"
     ]
    },
    {
     "name": "stdout",
     "output_type": "stream",
     "text": [
      "Epoch: [86/200], train_loss = 0.0249, train_acc = 0.9934, test_loss = 0.2090, test_accuracy = 0.9387\n",
      "Без улучшения 1/20 эпох\n"
     ]
    },
    {
     "name": "stderr",
     "output_type": "stream",
     "text": [
      "100%|██████████| 98/98 [00:20<00:00,  4.70it/s]\n"
     ]
    },
    {
     "name": "stdout",
     "output_type": "stream",
     "text": [
      "Epoch: [87/200], train_loss = 0.0241, train_acc = 0.9931, test_loss = 0.2068, test_accuracy = 0.9390\n",
      "Без улучшения 2/20 эпох\n"
     ]
    },
    {
     "name": "stderr",
     "output_type": "stream",
     "text": [
      "100%|██████████| 98/98 [00:20<00:00,  4.71it/s]\n"
     ]
    },
    {
     "name": "stdout",
     "output_type": "stream",
     "text": [
      "Epoch: [88/200], train_loss = 0.0233, train_acc = 0.9937, test_loss = 0.2092, test_accuracy = 0.9383\n",
      "Без улучшения 3/20 эпох\n"
     ]
    },
    {
     "name": "stderr",
     "output_type": "stream",
     "text": [
      "100%|██████████| 98/98 [00:21<00:00,  4.57it/s]\n"
     ]
    },
    {
     "name": "stdout",
     "output_type": "stream",
     "text": [
      "Epoch: [89/200], train_loss = 0.0249, train_acc = 0.9932, test_loss = 0.2088, test_accuracy = 0.9388\n",
      "Без улучшения 4/20 эпох\n"
     ]
    },
    {
     "name": "stderr",
     "output_type": "stream",
     "text": [
      "100%|██████████| 98/98 [00:21<00:00,  4.65it/s]\n"
     ]
    },
    {
     "name": "stdout",
     "output_type": "stream",
     "text": [
      "Epoch: [90/200], train_loss = 0.0245, train_acc = 0.9930, test_loss = 0.2109, test_accuracy = 0.9389\n",
      "Без улучшения 5/20 эпох\n"
     ]
    },
    {
     "name": "stderr",
     "output_type": "stream",
     "text": [
      "100%|██████████| 98/98 [00:20<00:00,  4.69it/s]\n"
     ]
    },
    {
     "name": "stdout",
     "output_type": "stream",
     "text": [
      "Epoch: [91/200], train_loss = 0.0226, train_acc = 0.9939, test_loss = 0.2101, test_accuracy = 0.9387\n",
      "Без улучшения 6/20 эпох\n"
     ]
    },
    {
     "name": "stderr",
     "output_type": "stream",
     "text": [
      "100%|██████████| 98/98 [00:20<00:00,  4.72it/s]\n"
     ]
    },
    {
     "name": "stdout",
     "output_type": "stream",
     "text": [
      "Epoch: [92/200], train_loss = 0.0225, train_acc = 0.9936, test_loss = 0.2087, test_accuracy = 0.9391\n",
      "Без улучшения 7/20 эпох\n"
     ]
    },
    {
     "name": "stderr",
     "output_type": "stream",
     "text": [
      "100%|██████████| 98/98 [00:20<00:00,  4.84it/s]\n"
     ]
    },
    {
     "name": "stdout",
     "output_type": "stream",
     "text": [
      "Epoch: [93/200], train_loss = 0.0223, train_acc = 0.9939, test_loss = 0.2086, test_accuracy = 0.9387\n",
      "Без улучшения 8/20 эпох\n"
     ]
    },
    {
     "name": "stderr",
     "output_type": "stream",
     "text": [
      "100%|██████████| 98/98 [00:20<00:00,  4.86it/s]\n"
     ]
    },
    {
     "name": "stdout",
     "output_type": "stream",
     "text": [
      "Epoch: [94/200], train_loss = 0.0225, train_acc = 0.9934, test_loss = 0.2086, test_accuracy = 0.9387\n",
      "Без улучшения 9/20 эпох\n"
     ]
    },
    {
     "name": "stderr",
     "output_type": "stream",
     "text": [
      "100%|██████████| 98/98 [00:20<00:00,  4.79it/s]\n"
     ]
    },
    {
     "name": "stdout",
     "output_type": "stream",
     "text": [
      "Epoch: [95/200], train_loss = 0.0232, train_acc = 0.9937, test_loss = 0.2090, test_accuracy = 0.9389\n",
      "Без улучшения 10/20 эпох\n"
     ]
    },
    {
     "name": "stderr",
     "output_type": "stream",
     "text": [
      "100%|██████████| 98/98 [00:20<00:00,  4.82it/s]\n"
     ]
    },
    {
     "name": "stdout",
     "output_type": "stream",
     "text": [
      "Epoch: [96/200], train_loss = 0.0223, train_acc = 0.9938, test_loss = 0.2074, test_accuracy = 0.9391\n",
      "Без улучшения 11/20 эпох\n"
     ]
    },
    {
     "name": "stderr",
     "output_type": "stream",
     "text": [
      "100%|██████████| 98/98 [00:20<00:00,  4.78it/s]\n"
     ]
    },
    {
     "name": "stdout",
     "output_type": "stream",
     "text": [
      "Epoch: [97/200], train_loss = 0.0228, train_acc = 0.9935, test_loss = 0.2075, test_accuracy = 0.9387\n",
      "Без улучшения 12/20 эпох\n"
     ]
    },
    {
     "name": "stderr",
     "output_type": "stream",
     "text": [
      "100%|██████████| 98/98 [00:19<00:00,  4.91it/s]\n"
     ]
    },
    {
     "name": "stdout",
     "output_type": "stream",
     "text": [
      "Epoch: [98/200], train_loss = 0.0226, train_acc = 0.9939, test_loss = 0.2083, test_accuracy = 0.9384\n",
      "Без улучшения 13/20 эпох\n"
     ]
    },
    {
     "name": "stderr",
     "output_type": "stream",
     "text": [
      "100%|██████████| 98/98 [00:20<00:00,  4.81it/s]\n"
     ]
    },
    {
     "name": "stdout",
     "output_type": "stream",
     "text": [
      "Epoch: [99/200], train_loss = 0.0220, train_acc = 0.9939, test_loss = 0.2079, test_accuracy = 0.9391\n",
      "Без улучшения 14/20 эпох\n"
     ]
    },
    {
     "name": "stderr",
     "output_type": "stream",
     "text": [
      "100%|██████████| 98/98 [00:20<00:00,  4.87it/s]\n"
     ]
    },
    {
     "name": "stdout",
     "output_type": "stream",
     "text": [
      "Epoch: [100/200], train_loss = 0.0206, train_acc = 0.9943, test_loss = 0.2085, test_accuracy = 0.9390\n",
      "Без улучшения 15/20 эпох\n"
     ]
    },
    {
     "name": "stderr",
     "output_type": "stream",
     "text": [
      "100%|██████████| 98/98 [00:20<00:00,  4.69it/s]\n"
     ]
    },
    {
     "name": "stdout",
     "output_type": "stream",
     "text": [
      "Epoch: [101/200], train_loss = 0.0219, train_acc = 0.9940, test_loss = 0.2072, test_accuracy = 0.9391\n",
      "Без улучшения 16/20 эпох\n"
     ]
    },
    {
     "name": "stderr",
     "output_type": "stream",
     "text": [
      "100%|██████████| 98/98 [00:20<00:00,  4.76it/s]\n"
     ]
    },
    {
     "name": "stdout",
     "output_type": "stream",
     "text": [
      "Epoch: [102/200], train_loss = 0.0214, train_acc = 0.9943, test_loss = 0.2070, test_accuracy = 0.9394\n",
      "Без улучшения 17/20 эпох\n"
     ]
    },
    {
     "name": "stderr",
     "output_type": "stream",
     "text": [
      "100%|██████████| 98/98 [00:20<00:00,  4.74it/s]\n"
     ]
    },
    {
     "name": "stdout",
     "output_type": "stream",
     "text": [
      "Epoch: [103/200], train_loss = 0.0213, train_acc = 0.9943, test_loss = 0.2076, test_accuracy = 0.9394\n",
      "Без улучшения 18/20 эпох\n"
     ]
    },
    {
     "name": "stderr",
     "output_type": "stream",
     "text": [
      "100%|██████████| 98/98 [00:20<00:00,  4.82it/s]\n"
     ]
    },
    {
     "name": "stdout",
     "output_type": "stream",
     "text": [
      "Epoch: [104/200], train_loss = 0.0220, train_acc = 0.9940, test_loss = 0.2070, test_accuracy = 0.9386\n",
      "Без улучшения 19/20 эпох\n"
     ]
    },
    {
     "name": "stderr",
     "output_type": "stream",
     "text": [
      "100%|██████████| 98/98 [00:20<00:00,  4.72it/s]\n"
     ]
    },
    {
     "name": "stdout",
     "output_type": "stream",
     "text": [
      "Epoch: [105/200], train_loss = 0.0217, train_acc = 0.9940, test_loss = 0.2089, test_accuracy = 0.9385\n",
      "Без улучшения 20/20 эпох\n",
      " Ранняя остановка, нет улучшений\n",
      "Сохранена последняя модель\n",
      "Закончили обучение\n"
     ]
    }
   ],
   "execution_count": 6
  },
  {
   "metadata": {
    "ExecuteTime": {
     "end_time": "2025-10-26T15:26:52.653021Z",
     "start_time": "2025-10-26T15:26:52.371012Z"
    }
   },
   "cell_type": "code",
   "source": [
    "actual_epochs = len(train_losses)\n",
    "\n",
    "plt.figure(figsize=(12, 5))\n",
    "\n",
    "plt.subplot(1, 2, 1)\n",
    "plt.plot(range(1, actual_epochs + 1), train_losses, label='Train', linewidth=2)\n",
    "plt.plot(range(1, actual_epochs + 1), test_losses, label='Test', linewidth=2)\n",
    "plt.xlabel('Epochs')\n",
    "plt.ylabel('Loss')\n",
    "plt.title('Loss vs. Epoch')\n",
    "plt.legend()\n",
    "plt.grid(True, alpha=0.3)\n",
    "\n",
    "plt.subplot(1, 2, 2)\n",
    "plt.plot(range(1, actual_epochs + 1), train_accuracies, label='Train', linewidth=2)\n",
    "plt.plot(range(1, actual_epochs + 1), test_accuracies, label='Test', linewidth=2)\n",
    "plt.xlabel('Epochs')\n",
    "plt.ylabel('Accuracy')\n",
    "plt.title('Accuracy vs. Epoch')\n",
    "plt.legend()\n",
    "plt.grid(True, alpha=0.3)\n",
    "\n",
    "plt.tight_layout()\n",
    "plt.show()\n",
    "\n",
    "plt.show()"
   ],
   "id": "2ec933559746f704",
   "outputs": [
    {
     "data": {
      "text/plain": [
       "<Figure size 1200x500 with 2 Axes>"
      ],
      "image/png": "[encoded data removed]"
     },
     "metadata": {},
     "output_type": "display_data"
    }
   ],
   "execution_count": 7
  },
  {
   "metadata": {
    "ExecuteTime": {
     "end_time": "2025-10-26T15:30:01.983086Z",
     "start_time": "2025-10-26T15:30:01.608050Z"
    }
   },
   "cell_type": "code",
   "source": [
    "import numpy as np\n",
    "from sklearn.metrics import f1_score, confusion_matrix, classification_report\n",
    "import seaborn as sns\n",
    "\n",
    "def evaluate_model(model, dataloader):\n",
    "    model.eval()\n",
    "    y_true = []\n",
    "    y_pred = []\n",
    "    with torch.no_grad():\n",
    "        for images, labels in dataloader:\n",
    "            images, labels = images.to(device), labels.to(device)\n",
    "            outputs = model(images)\n",
    "            _, predicted = torch.max(outputs, 1)\n",
    "            y_true.extend(labels.cpu().numpy())\n",
    "            y_pred.extend(predicted.cpu().numpy())\n",
    "    cm = confusion_matrix(y_true, y_pred)\n",
    "    report = classification_report(y_true, y_pred)\n",
    "    accuracy = np.sum(np.diag(cm)) / np.sum(cm)\n",
    "    weighted_f1 = f1_score(y_true, y_pred, average='weighted')\n",
    "    return cm, report, accuracy, weighted_f1\n",
    "\n",
    "def plot_conflusion_matrix(cm, classes):\n",
    "    with plt.style.context('default'):\n",
    "        plt.figure(figsize=(5, 4))\n",
    "        sns.set(font_scale=1.0)\n",
    "        sns.heatmap(cm, annot=True, fmt='g', cmap='Blues', cbar=False, xticklabels=classes, yticklabels=classes)\n",
    "        plt.xlabel('Predicted')\n",
    "        plt.ylabel('True')\n",
    "        plt.title('Confusion matrix')\n",
    "        plt.show()"
   ],
   "id": "21d47170396de8f2",
   "outputs": [],
   "execution_count": 8
  },
  {
   "metadata": {
    "ExecuteTime": {
     "end_time": "2025-10-26T15:34:58.126509Z",
     "start_time": "2025-10-26T15:34:50.827165Z"
    }
   },
   "cell_type": "code",
   "source": [
    "model.load_state_dict(torch.load('models/cifar_reznet_best.pth'))\n",
    "model.to(device)\n",
    "\n",
    "cm, report, accuracy, weighted_f1 = evaluate_model(model, test_loader)\n",
    "print('Метрики для текущей модели: ')\n",
    "print(report)\n",
    "print(f'Test accuracy: {accuracy:.4f}')\n",
    "plot_conflusion_matrix(cm, classes)"
   ],
   "id": "9972d81b3f53aabd",
   "outputs": [
    {
     "name": "stdout",
     "output_type": "stream",
     "text": [
      "Метрики для текущей модели: \n",
      "              precision    recall  f1-score   support\n",
      "\n",
      "           0       0.95      0.94      0.95      1000\n",
      "           1       0.96      0.97      0.97      1000\n",
      "           2       0.92      0.92      0.92      1000\n",
      "           3       0.88      0.87      0.87      1000\n",
      "           4       0.94      0.96      0.95      1000\n",
      "           5       0.91      0.90      0.90      1000\n",
      "           6       0.96      0.96      0.96      1000\n",
      "           7       0.96      0.95      0.96      1000\n",
      "           8       0.96      0.96      0.96      1000\n",
      "           9       0.95      0.96      0.96      1000\n",
      "\n",
      "    accuracy                           0.94     10000\n",
      "   macro avg       0.94      0.94      0.94     10000\n",
      "weighted avg       0.94      0.94      0.94     10000\n",
      "\n",
      "Test accuracy: 0.9396\n"
     ]
    },
    {
     "data": {
      "text/plain": [
       "<Figure size 500x400 with 1 Axes>"
      ],
      "image/png": "[encoded data removed]"
     },
     "metadata": {},
     "output_type": "display_data"
    }
   ],
   "execution_count": 11
  }
 ],
 "metadata": {
  "kernelspec": {
   "display_name": "Python 3",
   "language": "python",
   "name": "python3"
  },
  "language_info": {
   "codemirror_mode": {
    "name": "ipython",
    "version": 2
   },
   "file_extension": ".py",
   "mimetype": "text/x-python",
   "name": "python",
   "nbconvert_exporter": "python",
   "pygments_lexer": "ipython2",
   "version": "2.7.6"
  }
 },
 "nbformat": 4,
 "nbformat_minor": 5
}
